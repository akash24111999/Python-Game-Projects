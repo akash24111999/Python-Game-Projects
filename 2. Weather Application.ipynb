{
 "cells": [
  {
   "cell_type": "code",
   "execution_count": null,
   "id": "66aaefd7",
   "metadata": {},
   "outputs": [],
   "source": [
    "#Weather Application:\n",
    "\n",
    "import requests\n",
    "import json\n",
    "import win32com.client as wincom\n",
    "\n",
    "speak = wincom.Dispatch(\"SAPI.SpVoice\")\n",
    "\n",
    "while True:\n",
    "    city_name = input(\"Enter the name of the city: \")\n",
    "    \n",
    "    if city_name == 'q':\n",
    "        speak.Speak(\"Thank you for using the application.\")\n",
    "        break\n",
    "        \n",
    "    url = f\"http://api.weatherapi.com/v1/current.json?key=b50ae8f07de54fbb88262355231404&q={city_name}\"\n",
    "\n",
    "    r = requests.get(url)\n",
    "    w_dic = json.loads(r.text)\n",
    "    w = w_dic [\"current\"][\"temp_c\"]\n",
    "    print (w)\n",
    "\n",
    "    speak.Speak(f\"The current weather in {city_name} is {w} degrees celsius\")\n"
   ]
  },
  {
   "cell_type": "code",
   "execution_count": null,
   "id": "7ff19ea9",
   "metadata": {},
   "outputs": [],
   "source": []
  },
  {
   "cell_type": "code",
   "execution_count": null,
   "id": "2395fad7",
   "metadata": {},
   "outputs": [],
   "source": []
  }
 ],
 "metadata": {
  "kernelspec": {
   "display_name": "Python 3 (ipykernel)",
   "language": "python",
   "name": "python3"
  },
  "language_info": {
   "codemirror_mode": {
    "name": "ipython",
    "version": 3
   },
   "file_extension": ".py",
   "mimetype": "text/x-python",
   "name": "python",
   "nbconvert_exporter": "python",
   "pygments_lexer": "ipython3",
   "version": "3.11.5"
  }
 },
 "nbformat": 4,
 "nbformat_minor": 5
}
