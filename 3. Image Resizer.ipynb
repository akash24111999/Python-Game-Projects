{
 "cells": [
  {
   "cell_type": "code",
   "execution_count": 4,
   "id": "ed81658f",
   "metadata": {},
   "outputs": [
    {
     "name": "stdout",
     "output_type": "stream",
     "text": [
      "Defaulting to user installation because normal site-packages is not writeable\n",
      "Requirement already satisfied: opencv-python in c:\\users\\user-pc\\appdata\\roaming\\python\\python39\\site-packages (4.7.0.72)\n",
      "Requirement already satisfied: numpy>=1.17.0 in c:\\programdata\\anaconda3\\lib\\site-packages (from opencv-python) (1.21.5)\n"
     ]
    },
    {
     "data": {
      "text/plain": [
       "True"
      ]
     },
     "execution_count": 4,
     "metadata": {},
     "output_type": "execute_result"
    }
   ],
   "source": [
    "# Image Resizer\n",
    "!pip install opencv-python\n",
    "\n",
    "import os\n",
    "import cv2\n",
    "\n",
    "#Configurable Parameters\n",
    "source = \"Akash.jpg\"\n",
    "destination = \"Akash_new.jpg\"\n",
    "scale_percent = 50\n",
    "\n",
    "src = cv2.imread(source,cv2.IMREAD_UNCHANGED)\n",
    "\n",
    "\n",
    "#calculate the 50% of orignal dimensions\n",
    "new_width = int(src.shape[1] * scale_percent / 100)\n",
    "new_height = int(src.shape[0] * scale_percent / 100)\n",
    "\n",
    "#dsize\n",
    "dsize = (new_width,new_height)\n",
    "\n",
    "#resize image\n",
    "output = cv2.resize(src,dsize)\n",
    "\n",
    "cv2.imwrite(destination,output)"
   ]
  }
 ],
 "metadata": {
  "kernelspec": {
   "display_name": "Python 3 (ipykernel)",
   "language": "python",
   "name": "python3"
  },
  "language_info": {
   "codemirror_mode": {
    "name": "ipython",
    "version": 3
   },
   "file_extension": ".py",
   "mimetype": "text/x-python",
   "name": "python",
   "nbconvert_exporter": "python",
   "pygments_lexer": "ipython3",
   "version": "3.9.13"
  }
 },
 "nbformat": 4,
 "nbformat_minor": 5
}
