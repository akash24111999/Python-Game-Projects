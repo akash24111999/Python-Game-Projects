{
 "cells": [
  {
   "cell_type": "code",
   "execution_count": 1,
   "id": "0de4bdf4",
   "metadata": {},
   "outputs": [
    {
     "name": "stdout",
     "output_type": "stream",
     "text": [
      "Defaulting to user installation because normal site-packages is not writeable\n",
      "Collecting pypdf2\n",
      "  Downloading pypdf2-3.0.1-py3-none-any.whl (232 kB)\n",
      "     -------------------------------------- 232.6/232.6 kB 6.9 MB/s eta 0:00:00\n",
      "Requirement already satisfied: typing_extensions>=3.10.0.0 in c:\\programdata\\anaconda3\\lib\\site-packages (from pypdf2) (4.3.0)\n",
      "Installing collected packages: pypdf2\n",
      "Successfully installed pypdf2-3.0.1\n"
     ]
    }
   ],
   "source": [
    "# PDF Merger\n",
    "! pip install pypdf2\n",
    "\n",
    "import PyPDF2\n",
    "\n",
    "pdf_files = [\"1.pdf\",\"2.pdf\",\"3.pdf\"]\n",
    "merger = PyPDF2.PDFmerger()\n",
    "\n",
    "for filename in pdf_files:\n",
    "    pdfFile = open(filename, 'rb')\n",
    "    pdfReader = PyPDF2.PdfReader(pdfFile)\n",
    "    merger.append(pdfreader)\n",
    "    \n",
    "pdfFile.close()\n",
    "\n",
    "merger.write('merged.pdf')\n"
   ]
  }
 ],
 "metadata": {
  "kernelspec": {
   "display_name": "Python 3 (ipykernel)",
   "language": "python",
   "name": "python3"
  },
  "language_info": {
   "codemirror_mode": {
    "name": "ipython",
    "version": 3
   },
   "file_extension": ".py",
   "mimetype": "text/x-python",
   "name": "python",
   "nbconvert_exporter": "python",
   "pygments_lexer": "ipython3",
   "version": "3.9.13"
  }
 },
 "nbformat": 4,
 "nbformat_minor": 5
}
