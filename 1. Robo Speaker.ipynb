{
 "cells": [
  {
   "cell_type": "code",
   "execution_count": 1,
   "id": "a6a429ec",
   "metadata": {},
   "outputs": [
    {
     "name": "stdout",
     "output_type": "stream",
     "text": [
      "Welcome to Robospeaker..!!\n",
      "Enter what you want to speak: Gaata Rahe Mera Dil\n",
      "Enter what you want to speak: mera naam akash hai\n",
      "Enter what you want to speak: mai 23 saal ka hoon\n",
      "Enter what you want to speak: mai bohot smart hoon\n",
      "Enter what you want to speak: q\n"
     ]
    }
   ],
   "source": [
    "# Robo Speaker\n",
    "\n",
    "import win32com.client as wincom\n",
    "\n",
    "say = wincom.Dispatch(\"SAPI.SpVoice\")\n",
    "\n",
    "if __name__ == '__main__':\n",
    "    print(\"Welcome to Robospeaker..!!\")\n",
    "    \n",
    "    while True:\n",
    "        x = input(\"Enter what you want to speak: \")\n",
    "        \n",
    "        if x=='q':\n",
    "            say.Speak(\"Thank you for using the program. It was nice speaking to you.\")\n",
    "            break\n",
    "            \n",
    "        say.Speak(f\"{x}\")\n"
   ]
  }
 ],
 "metadata": {
  "kernelspec": {
   "display_name": "Python 3 (ipykernel)",
   "language": "python",
   "name": "python3"
  },
  "language_info": {
   "codemirror_mode": {
    "name": "ipython",
    "version": 3
   },
   "file_extension": ".py",
   "mimetype": "text/x-python",
   "name": "python",
   "nbconvert_exporter": "python",
   "pygments_lexer": "ipython3",
   "version": "3.11.5"
  }
 },
 "nbformat": 4,
 "nbformat_minor": 5
}
